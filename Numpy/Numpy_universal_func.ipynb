{
 "cells": [
  {
   "cell_type": "code",
   "execution_count": 1,
   "id": "a5bed39b-d799-4942-aa26-c6ff1852dc45",
   "metadata": {},
   "outputs": [],
   "source": [
    "import numpy as np"
   ]
  },
  {
   "cell_type": "markdown",
   "id": "e9134305-1b55-4760-85e8-13e3a6b75fd4",
   "metadata": {},
   "source": [
    "## Universal Functions"
   ]
  },
  {
   "cell_type": "markdown",
   "id": "f5e51d7b-1df7-4674-9340-060009d46b78",
   "metadata": {},
   "source": [
    "### Simple arithmetic function"
   ]
  },
  {
   "cell_type": "code",
   "execution_count": 2,
   "id": "488a7d98-b567-4acf-bf6e-4a0e2a38822e",
   "metadata": {},
   "outputs": [
    {
     "name": "stdout",
     "output_type": "stream",
     "text": [
      "[ 6  8 10 12]\n",
      "<class 'numpy.ufunc'>\n"
     ]
    }
   ],
   "source": [
    "a = [1,2,3,4]\n",
    "b =[5,6,7,8]\n",
    "print(np.add(a,b))\n",
    "print(type(np.add))"
   ]
  },
  {
   "cell_type": "code",
   "execution_count": 3,
   "id": "15f93352-bedd-4fd7-bdbc-37da34236b42",
   "metadata": {},
   "outputs": [
    {
     "name": "stdout",
     "output_type": "stream",
     "text": [
      "[4 4 4 4]\n"
     ]
    }
   ],
   "source": [
    "print(np.subtract(b,a))"
   ]
  },
  {
   "cell_type": "code",
   "execution_count": 4,
   "id": "f2fb0923-6828-4dce-aab2-00a24033ece3",
   "metadata": {},
   "outputs": [
    {
     "name": "stdout",
     "output_type": "stream",
     "text": [
      "[ 5 12 21 32]\n"
     ]
    }
   ],
   "source": [
    "print(np.multiply(a,b))"
   ]
  },
  {
   "cell_type": "code",
   "execution_count": 5,
   "id": "3f2d8326-58ba-472d-a092-92a27f75a6d1",
   "metadata": {},
   "outputs": [
    {
     "name": "stdout",
     "output_type": "stream",
     "text": [
      "[5.         3.         2.33333333 2.        ]\n"
     ]
    }
   ],
   "source": [
    "print(np.divide(b,a))"
   ]
  },
  {
   "cell_type": "code",
   "execution_count": 6,
   "id": "2edd04b7-2812-4581-974d-d0db565703ef",
   "metadata": {},
   "outputs": [
    {
     "name": "stdout",
     "output_type": "stream",
     "text": [
      "[    1    64  2187 65536]\n"
     ]
    }
   ],
   "source": [
    "print(np.power(a,b))"
   ]
  },
  {
   "cell_type": "code",
   "execution_count": 7,
   "id": "3461c44f-e644-4061-aaab-81b1b2633082",
   "metadata": {},
   "outputs": [
    {
     "name": "stdout",
     "output_type": "stream",
     "text": [
      "[1 2 3 4]\n"
     ]
    }
   ],
   "source": [
    "print(np.mod(a,b))"
   ]
  },
  {
   "cell_type": "code",
   "execution_count": 8,
   "id": "bdda2db5-2c96-46e9-9648-be42f6722eb9",
   "metadata": {},
   "outputs": [
    {
     "name": "stdout",
     "output_type": "stream",
     "text": [
      "[1 2 3 4]\n"
     ]
    }
   ],
   "source": [
    "print(np.remainder(a,b))"
   ]
  },
  {
   "cell_type": "code",
   "execution_count": 9,
   "id": "9bcb32bc-574f-4d12-bf86-fd8fc991be31",
   "metadata": {},
   "outputs": [
    {
     "name": "stdout",
     "output_type": "stream",
     "text": [
      "(array([5, 3, 2, 2]), array([0, 0, 1, 0]))\n"
     ]
    }
   ],
   "source": [
    "print(np.divmod(b,a))"
   ]
  },
  {
   "cell_type": "code",
   "execution_count": 10,
   "id": "4192289b-93a0-493c-b908-76e61853a05e",
   "metadata": {},
   "outputs": [
    {
     "name": "stdout",
     "output_type": "stream",
     "text": [
      "[1 2 3 1 4 3 4 5]\n"
     ]
    }
   ],
   "source": [
    "c=[-1,-2,3,1,-4,3,-4,5]\n",
    "print(np.absolute(c))"
   ]
  },
  {
   "cell_type": "markdown",
   "id": "1a94fe84-2182-4395-8c78-5200b8fcd399",
   "metadata": {},
   "source": [
    "### Rounding functions"
   ]
  },
  {
   "cell_type": "code",
   "execution_count": 11,
   "id": "2674a820-68f1-463a-9cb8-7d2cab84960e",
   "metadata": {},
   "outputs": [
    {
     "name": "stdout",
     "output_type": "stream",
     "text": [
      "[-3.  3.]\n",
      "[-3.  3.]\n"
     ]
    }
   ],
   "source": [
    "print(np.trunc([-3.4456,3.7454]))\n",
    "print(np.fix([-3.4456,3.7454]))"
   ]
  },
  {
   "cell_type": "code",
   "execution_count": 12,
   "id": "9d72f32e-da37-49f9-a978-a32c48deb640",
   "metadata": {},
   "outputs": [
    {
     "name": "stdout",
     "output_type": "stream",
     "text": [
      "3.23\n"
     ]
    }
   ],
   "source": [
    "print(np.around(3.23334,2))"
   ]
  },
  {
   "cell_type": "code",
   "execution_count": 13,
   "id": "f5b60262-8f2d-4d7d-8bb0-fa268426f07d",
   "metadata": {},
   "outputs": [
    {
     "name": "stdout",
     "output_type": "stream",
     "text": [
      "[-4.  3.]\n",
      "[-3.  4.]\n"
     ]
    }
   ],
   "source": [
    "print(np.floor([-3.5666,3.5744]))\n",
    "print(np.ceil([-3.5666,3.5744]))"
   ]
  },
  {
   "cell_type": "markdown",
   "id": "feae9f07-5997-45f1-adfb-647745332bf9",
   "metadata": {},
   "source": [
    "### Summation functions"
   ]
  },
  {
   "cell_type": "code",
   "execution_count": 14,
   "id": "b88f5861-997f-4e88-94b6-be6def9aa1d1",
   "metadata": {},
   "outputs": [
    {
     "name": "stdout",
     "output_type": "stream",
     "text": [
      "12\n",
      "[6 6]\n"
     ]
    }
   ],
   "source": [
    "d = np.array([1,2,3])\n",
    "e = np.array([1,2,3])\n",
    "print(np.sum([d,e]))\n",
    "print(np.sum([d,e],axis =1))"
   ]
  },
  {
   "cell_type": "code",
   "execution_count": 15,
   "id": "a0c82276-ef40-4ce9-b257-bba2362ca6e6",
   "metadata": {},
   "outputs": [
    {
     "name": "stdout",
     "output_type": "stream",
     "text": [
      "[1 3 6]\n"
     ]
    }
   ],
   "source": [
    "##cummulative sum\n",
    "print(np.cumsum(d))"
   ]
  },
  {
   "cell_type": "markdown",
   "id": "94f9f3f2-bffe-452b-9233-4ff6cc0e0192",
   "metadata": {},
   "source": [
    "### Porduct functions"
   ]
  },
  {
   "cell_type": "code",
   "execution_count": 16,
   "id": "9c2fa1d0-bce7-45d9-92c7-e0354fcda8d7",
   "metadata": {},
   "outputs": [
    {
     "name": "stdout",
     "output_type": "stream",
     "text": [
      "36\n",
      "[6 6]\n"
     ]
    }
   ],
   "source": [
    "print(np.prod([d,e]))\n",
    "print(np.prod([d,e],axis=1))"
   ]
  },
  {
   "cell_type": "code",
   "execution_count": 17,
   "id": "e4c5cf9a-5894-40ba-84cf-358c6224d91d",
   "metadata": {},
   "outputs": [
    {
     "name": "stdout",
     "output_type": "stream",
     "text": [
      "[1 2 6]\n"
     ]
    }
   ],
   "source": [
    "print(np.cumprod(d))"
   ]
  },
  {
   "cell_type": "markdown",
   "id": "eb3b0e0c-bff4-4ca3-91b0-81c4865e7511",
   "metadata": {},
   "source": [
    "### Difference Functions"
   ]
  },
  {
   "cell_type": "code",
   "execution_count": 18,
   "id": "12862632-6005-45d3-9e3c-b4c316d41497",
   "metadata": {},
   "outputs": [
    {
     "name": "stdout",
     "output_type": "stream",
     "text": [
      "[ 5 -3  1]\n",
      "[-8  4]\n"
     ]
    }
   ],
   "source": [
    "arr = np.array([10,15,12,13])\n",
    "print(np.diff(arr))\n",
    "print(np.diff(arr,n=2))"
   ]
  },
  {
   "cell_type": "markdown",
   "id": "358fa1a4-8131-4edf-9460-2bd0255706d6",
   "metadata": {},
   "source": [
    "### LCM functions"
   ]
  },
  {
   "cell_type": "code",
   "execution_count": 19,
   "id": "438cb552-c398-442b-8a11-e87147d8ad6e",
   "metadata": {},
   "outputs": [
    {
     "name": "stdout",
     "output_type": "stream",
     "text": [
      "20\n"
     ]
    }
   ],
   "source": [
    "num1 = 4\n",
    "num2 = 5\n",
    "arr1 = np.array([3,6,9])\n",
    "print(np.lcm(num1,num2))"
   ]
  },
  {
   "cell_type": "code",
   "execution_count": 20,
   "id": "d6735693-fb04-4ec4-a6a6-7542fe75a3c9",
   "metadata": {},
   "outputs": [
    {
     "name": "stdout",
     "output_type": "stream",
     "text": [
      "18\n"
     ]
    }
   ],
   "source": [
    "print(np.lcm.reduce(arr1))"
   ]
  },
  {
   "cell_type": "markdown",
   "id": "df5b3f6a-742a-4276-ac76-1aaef2cb6962",
   "metadata": {},
   "source": [
    "### GCD or HCF functions"
   ]
  },
  {
   "cell_type": "code",
   "execution_count": 21,
   "id": "f99bead9-2919-48a0-b6f0-7a4af4d23c04",
   "metadata": {},
   "outputs": [
    {
     "name": "stdout",
     "output_type": "stream",
     "text": [
      "1\n"
     ]
    }
   ],
   "source": [
    "print(np.gcd(num1,num2))"
   ]
  },
  {
   "cell_type": "code",
   "execution_count": 22,
   "id": "5ea6f819-3a70-46e6-8de5-0581bcc07bfc",
   "metadata": {},
   "outputs": [
    {
     "name": "stdout",
     "output_type": "stream",
     "text": [
      "3\n"
     ]
    }
   ],
   "source": [
    "print(np.gcd.reduce(arr1))"
   ]
  },
  {
   "cell_type": "markdown",
   "id": "7efe7911-2f3d-4772-a821-dee654163d45",
   "metadata": {},
   "source": [
    "### Trignometry Function"
   ]
  },
  {
   "cell_type": "code",
   "execution_count": 23,
   "id": "d1ac2d67-2cde-425f-bf52-e090c292cf6c",
   "metadata": {},
   "outputs": [
    {
     "data": {
      "text/plain": [
       "1.0"
      ]
     },
     "execution_count": 23,
     "metadata": {},
     "output_type": "execute_result"
    }
   ],
   "source": [
    "z = np.sin(np.pi/2)\n",
    "z"
   ]
  },
  {
   "cell_type": "code",
   "execution_count": 25,
   "id": "f2c5b24b-3e8f-4e6b-94af-abf4c0a60669",
   "metadata": {},
   "outputs": [
    {
     "data": {
      "text/plain": [
       "array([0.17453293, 0.34906585, 0.52359878, 0.6981317 , 0.78539816])"
      ]
     },
     "execution_count": 25,
     "metadata": {},
     "output_type": "execute_result"
    }
   ],
   "source": [
    "##Convert Degrees Into Radians\n",
    "## radians values are pi/180 * degree_values.\n",
    "array = np.array([10,20,30,40,45])\n",
    "rad = np.deg2rad(array)\n",
    "rad"
   ]
  },
  {
   "cell_type": "code",
   "execution_count": 26,
   "id": "90947e99-9088-4df2-b2ad-e24459ff1765",
   "metadata": {},
   "outputs": [
    {
     "data": {
      "text/plain": [
       "array([10.00000028, 19.99999998, 30.00000025, 39.99999995, 44.99999981])"
      ]
     },
     "execution_count": 26,
     "metadata": {},
     "output_type": "execute_result"
    }
   ],
   "source": [
    "###Radians to Degrees\n",
    "arr2 =np.array([0.17453293, 0.34906585, 0.52359878, 0.6981317 , 0.78539816])\n",
    "deg = np.rad2deg(arr2)\n",
    "deg"
   ]
  },
  {
   "cell_type": "code",
   "execution_count": 31,
   "id": "5a6540f2-c2c3-4f53-8473-ae48c0148669",
   "metadata": {},
   "outputs": [
    {
     "name": "stdout",
     "output_type": "stream",
     "text": [
      "1.5707963267948966\n",
      "0.0\n",
      "0.7853981633974483\n"
     ]
    }
   ],
   "source": [
    "## Finding Angles\n",
    "print( np.arcsin(1.0))\n",
    "print(np.arccos(1.0))\n",
    "print(np.arctan(1.0))\n"
   ]
  },
  {
   "cell_type": "code",
   "execution_count": 32,
   "id": "dac72a3c-6d2b-406a-961f-171e47c387ad",
   "metadata": {},
   "outputs": [
    {
     "name": "stdout",
     "output_type": "stream",
     "text": [
      "22.360679774997898\n"
     ]
    }
   ],
   "source": [
    "##Hypotenues\n",
    "base = 10\n",
    "prep = 20\n",
    "print(np.hypot(base,prep))"
   ]
  },
  {
   "cell_type": "code",
   "execution_count": 34,
   "id": "4eb52772-b236-42d8-a5ef-3e8502fa747f",
   "metadata": {},
   "outputs": [
    {
     "name": "stdout",
     "output_type": "stream",
     "text": [
      "2.3012989023072947\n",
      "2.5091784786580567\n",
      "0.9171523356672744\n"
     ]
    }
   ],
   "source": [
    "### Hyperbolic Functions\n",
    "print(np.sinh(np.pi/2))\n",
    "print(np.cosh(np.pi/2))\n",
    "print(np.tanh(np.pi/2))"
   ]
  },
  {
   "cell_type": "markdown",
   "id": "cc66963b-86eb-46ff-bf61-b43e026f0bcc",
   "metadata": {},
   "source": [
    "### Set Operations"
   ]
  },
  {
   "cell_type": "code",
   "execution_count": 35,
   "id": "1e5871e0-06c3-4dc8-a803-9360d35e795d",
   "metadata": {},
   "outputs": [
    {
     "name": "stdout",
     "output_type": "stream",
     "text": [
      "[1 2 3 4 5 6 7]\n"
     ]
    }
   ],
   "source": [
    "set = np.array([1,1,1,1,2,3,4,5,6,5,7])\n",
    "print(np.unique(set))"
   ]
  },
  {
   "cell_type": "code",
   "execution_count": 40,
   "id": "38bc0b67-2413-4846-b061-c0e511e92525",
   "metadata": {},
   "outputs": [
    {
     "name": "stdout",
     "output_type": "stream",
     "text": [
      "[1 2 3 4 5 6 7 8]\n",
      "[3 4]\n",
      "[1 2]\n",
      "[1 2 5 6 7 8]\n"
     ]
    }
   ],
   "source": [
    "\n",
    "set1 = np.array([1,2,3,4])\n",
    "set2 =np.array([3,4,5,6,7,8])\n",
    "##Finding Union\n",
    "print(np.union1d(set1,set2))\n",
    "##Finding Intersection\n",
    "print(np.intersect1d(set1,set2,assume_unique=True))\n",
    "##Finding Difference\n",
    "print(np.setdiff1d(set1,set2))\n",
    "###Finding Symmetric Difference\n",
    "print(np.setxor1d(set1,set2))"
   ]
  },
  {
   "cell_type": "code",
   "execution_count": null,
   "id": "ce317516-f127-46f4-9e77-37cbd788fafb",
   "metadata": {},
   "outputs": [],
   "source": []
  }
 ],
 "metadata": {
  "kernelspec": {
   "display_name": "Python 3 (ipykernel)",
   "language": "python",
   "name": "python3"
  },
  "language_info": {
   "codemirror_mode": {
    "name": "ipython",
    "version": 3
   },
   "file_extension": ".py",
   "mimetype": "text/x-python",
   "name": "python",
   "nbconvert_exporter": "python",
   "pygments_lexer": "ipython3",
   "version": "3.11.7"
  }
 },
 "nbformat": 4,
 "nbformat_minor": 5
}
